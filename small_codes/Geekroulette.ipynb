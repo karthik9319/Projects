{
 "cells": [
  {
   "cell_type": "code",
   "execution_count": 79,
   "metadata": {},
   "outputs": [],
   "source": [
    "from random import SystemRandom"
   ]
  },
  {
   "cell_type": "code",
   "execution_count": 80,
   "metadata": {},
   "outputs": [],
   "source": [
    "def game_logic():\n",
    "    big_pot = []\n",
    "    for i in range(10):\n",
    "        elem = [cryptogen.randrange(9) for i in range(9)]\n",
    "        sum_elem = sum(elem)\n",
    "        big_pot.append(sum_elem)\n",
    "    win_num = big_pot.index(min(big_pot))\n",
    "    return win_num"
   ]
  },
  {
   "cell_type": "code",
   "execution_count": 81,
   "metadata": {},
   "outputs": [
    {
     "name": "stdout",
     "output_type": "stream",
     "text": [
      "place your bets gentlemen\n",
      "player 1: 3\n",
      "player 2: 4\n",
      "player 3: 9\n"
     ]
    }
   ],
   "source": [
    "print(\"place your bets gentlemen\")\n",
    "win_num = game_logic()\n",
    "player_1 = input(\"player 1: \")\n",
    "player_2 = input(\"player 2: \")\n",
    "player_3 = input(\"player 3: \")\n",
    "bets = [player_1, player_2, player_3]"
   ]
  },
  {
   "cell_type": "code",
   "execution_count": 82,
   "metadata": {},
   "outputs": [
    {
     "name": "stdout",
     "output_type": "stream",
     "text": [
      " Sorry people you didn't guess right!!! Lucky number is  7 \n"
     ]
    }
   ],
   "source": [
    "if win_num in bets:\n",
    "    print(f\" Winner is {bets.index(win_num)}\")\n",
    "else:\n",
    "    print(f\" Sorry people you didn't guess right!!! Lucky number is  {win_num} \")"
   ]
  },
  {
   "cell_type": "code",
   "execution_count": 68,
   "metadata": {},
   "outputs": [
    {
     "name": "stdout",
     "output_type": "stream",
     "text": [
      "4\n"
     ]
    }
   ],
   "source": [
    "if win_num in bets:\n",
    "    print(bets.index(win_num))\n",
    "else:\n",
    "    print(win_num)"
   ]
  },
  {
   "cell_type": "code",
   "execution_count": 56,
   "metadata": {},
   "outputs": [
    {
     "data": {
      "text/plain": [
       "2"
      ]
     },
     "execution_count": 56,
     "metadata": {},
     "output_type": "execute_result"
    }
   ],
   "source": []
  },
  {
   "cell_type": "code",
   "execution_count": 45,
   "metadata": {},
   "outputs": [
    {
     "name": "stdout",
     "output_type": "stream",
     "text": [
      "{'a': 2, 'b': 1, 'c': 2, 'd': 1, 'e': 1}\n",
      "CPU times: user 163 µs, sys: 93 µs, total: 256 µs\n",
      "Wall time: 238 µs\n"
     ]
    }
   ],
   "source": [
    "%%time\n",
    "old_lis = [\"a\", \"b\", \"c\", \"d\", \"e\", \"a\", \"c\"]\n",
    "new_lis = {}\n",
    "for i in range(len(old_lis)):\n",
    "    count = 1\n",
    "    if old_lis[i] in new_lis:\n",
    "        count += 1\n",
    "        new_lis[old_lis[i]] = count\n",
    "    else:\n",
    "        new_lis[old_lis[i]] = count\n",
    "print(new_lis)"
   ]
  },
  {
   "cell_type": "code",
   "execution_count": null,
   "metadata": {},
   "outputs": [],
   "source": []
  },
  {
   "cell_type": "code",
   "execution_count": 41,
   "metadata": {},
   "outputs": [
    {
     "ename": "KeyError",
     "evalue": "5",
     "output_type": "error",
     "traceback": [
      "\u001b[0;31m---------------------------------------------------------------------------\u001b[0m",
      "\u001b[0;31mKeyError\u001b[0m                                  Traceback (most recent call last)",
      "\u001b[0;32m<ipython-input-41-abff2080790e>\u001b[0m in \u001b[0;36m<module>\u001b[0;34m\u001b[0m\n\u001b[0;32m----> 1\u001b[0;31m \u001b[0mnew_lis\u001b[0m\u001b[0;34m[\u001b[0m\u001b[0;36m5\u001b[0m\u001b[0;34m]\u001b[0m\u001b[0;34m\u001b[0m\u001b[0;34m\u001b[0m\u001b[0m\n\u001b[0m",
      "\u001b[0;31mKeyError\u001b[0m: 5"
     ]
    }
   ],
   "source": [
    "new_lis[5]"
   ]
  },
  {
   "cell_type": "code",
   "execution_count": 39,
   "metadata": {},
   "outputs": [
    {
     "data": {
      "text/plain": [
       "2"
      ]
     },
     "execution_count": 39,
     "metadata": {},
     "output_type": "execute_result"
    }
   ],
   "source": [
    "new_lis[\"a\"]"
   ]
  },
  {
   "cell_type": "code",
   "execution_count": null,
   "metadata": {},
   "outputs": [],
   "source": []
  }
 ],
 "metadata": {
  "kernelspec": {
   "display_name": "Python 3.7.3 64-bit (conda)",
   "language": "python",
   "name": "python37364bitcondab3cc97dd3cd84133b62c89ccfa0c660b"
  },
  "language_info": {
   "codemirror_mode": {
    "name": "ipython",
    "version": 3
   },
   "file_extension": ".py",
   "mimetype": "text/x-python",
   "name": "python",
   "nbconvert_exporter": "python",
   "pygments_lexer": "ipython3",
   "version": "3.7.3"
  }
 },
 "nbformat": 4,
 "nbformat_minor": 4
}
